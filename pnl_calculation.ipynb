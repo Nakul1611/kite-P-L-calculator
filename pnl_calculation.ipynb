{
 "cells": [
  {
   "cell_type": "code",
   "execution_count": 5,
   "metadata": {},
   "outputs": [
    {
     "ename": "ModuleNotFoundError",
     "evalue": "No module named 'xlsxwriter'",
     "output_type": "error",
     "traceback": [
      "\u001b[1;31m---------------------------------------------------------------------------\u001b[0m",
      "\u001b[1;31mModuleNotFoundError\u001b[0m                       Traceback (most recent call last)",
      "\u001b[1;32m~\\AppData\\Local\\Temp/ipykernel_716/1531594506.py\u001b[0m in \u001b[0;36m<module>\u001b[1;34m\u001b[0m\n\u001b[0;32m      4\u001b[0m \u001b[1;32mimport\u001b[0m \u001b[0mre\u001b[0m\u001b[1;33m\u001b[0m\u001b[1;33m\u001b[0m\u001b[0m\n\u001b[0;32m      5\u001b[0m \u001b[1;32mimport\u001b[0m \u001b[0mmatplotlib\u001b[0m\u001b[1;33m.\u001b[0m\u001b[0mpyplot\u001b[0m \u001b[1;32mas\u001b[0m \u001b[0mplt\u001b[0m\u001b[1;33m\u001b[0m\u001b[1;33m\u001b[0m\u001b[0m\n\u001b[1;32m----> 6\u001b[1;33m \u001b[1;32mfrom\u001b[0m \u001b[0mxlsxwriter\u001b[0m \u001b[1;32mimport\u001b[0m \u001b[0mWorkbook\u001b[0m\u001b[1;33m\u001b[0m\u001b[1;33m\u001b[0m\u001b[0m\n\u001b[0m\u001b[0;32m      7\u001b[0m \u001b[1;33m\u001b[0m\u001b[0m\n\u001b[0;32m      8\u001b[0m \u001b[1;31m#reading orders and calculating charges and PnL\u001b[0m\u001b[1;33m\u001b[0m\u001b[1;33m\u001b[0m\u001b[1;33m\u001b[0m\u001b[0m\n",
      "\u001b[1;31mModuleNotFoundError\u001b[0m: No module named 'xlsxwriter'"
     ]
    }
   ],
   "source": [
    "import pandas as pd\n",
    "import numpy as np\n",
    "import os\n",
    "import re\n",
    "import matplotlib.pyplot as plt\n",
    "from xlsxwriter import Workbook\n",
    "\n",
    "#reading orders and calculating charges and PnL\n",
    "df = pd.read_csv('orders.csv')\n",
    "\n",
    "\n",
    "df = df[df['Status']!='REJECTED']\n",
    "\n",
    "df =df[df['Product']!='CNC']\n",
    "df['Qty.']=df['Qty.'].apply(lambda x: x.split('/')[0])\n",
    "df['Qty.']=df['Qty.'].astype(int)\n",
    "df['Total']=df['Avg. price']*df['Qty.']\n",
    "df['Gross PnL'] = np.where((df['Type']=='BUY'),-1*df['Total'],df['Total'])\n",
    "df['Charge']=np.minimum(20,(df['Total']*0.03/100))\n",
    "df['ETC']=df['Total']*0.003/100\n",
    "df['GST']=df[['Charge','ETC']].sum(axis='columns')*18/100\n",
    "df['STT']=np.where(df['Type']=='BUY',0,df['Total']*0.025/100)\n",
    "df['Stamp Duty']=np.where(df['Type']=='BUY',df['Total']*0.003/100,0)\n",
    "df['Total Charges']=df[['Charge','ETC','GST','STT','Stamp Duty']].sum(axis='columns')\n",
    "print(df.info())\n",
    "\n",
    "#df = df[df['Product']!='CNC']\n",
    "#df_summary is used as intermediate dataframe\n",
    "df_summary = pd.DataFrame(df.groupby(['Instrument'])['Gross PnL','Total Charges'].sum()).reset_index()\n",
    "df_summary['Net PnL']=df_summary['Gross PnL']-df_summary['Total Charges']\n",
    "df_summary['% Charge']=(df_summary['Total Charges']/df_summary['Gross PnL'])*100\n",
    "df_summary\n",
    "\n",
    "#df_total is used as intermediate dataframe\n",
    "df_total = pd.pivot_table(pd.DataFrame(df_summary.sum(axis=0)).reset_index(),columns=['index'],values=[0],aggfunc=lambda x: ' '.join(str(v) for v in x))\n",
    "df_total['Instrument']='Total'\n",
    "\n",
    "#df_final is the final summary dataframe\n",
    "df_final = pd.concat([df_summary,df_total],axis='rows')\n",
    "list_columns = ['Gross PnL','Total Charges','Net PnL','% Charge']\n",
    "for i in list_columns:\n",
    "    df_final[i]=df_final[i].astype(float)\n",
    "    df_final[i]=df_final[i].round(2)\n",
    "print(df_final.info())\n",
    "\n",
    "writer = pd.ExcelWriter('kite_pnl_calculated.xlsx', engine='xlsxwriter')\n",
    "df.to_excel(writer, sheet_name='Data', index=False)\n",
    "df_final.to_excel(writer, sheet_name='Summary', index=False)\n",
    "writer.save()\n",
    "df_final"
   ]
  },
  {
   "cell_type": "code",
   "execution_count": null,
   "metadata": {},
   "outputs": [],
   "source": [
    "import pandas as pd\n",
    "import numpy as np\n",
    "import os\n",
    "import re\n",
    "import matplotlib.pyplot as plt"
   ]
  },
  {
   "cell_type": "code",
   "execution_count": null,
   "metadata": {},
   "outputs": [],
   "source": [
    "from bs4 import BeautifulSoup as bs"
   ]
  },
  {
   "cell_type": "code",
   "execution_count": null,
   "metadata": {},
   "outputs": [],
   "source": [
    "df = pd.read_csv(\"orders.csv\")"
   ]
  },
  {
   "cell_type": "code",
   "execution_count": null,
   "metadata": {},
   "outputs": [],
   "source": [
    "df.head()"
   ]
  },
  {
   "cell_type": "code",
   "execution_count": null,
   "metadata": {},
   "outputs": [
    {
     "data": {
      "text/plain": [
       "COMPLETE     8\n",
       "CANCELLED    3\n",
       "REJECTED     1\n",
       "Name: Status, dtype: int64"
      ]
     },
     "execution_count": 7,
     "metadata": {},
     "output_type": "execute_result"
    }
   ],
   "source": [
    "df['Status'].value_counts()"
   ]
  },
  {
   "cell_type": "code",
   "execution_count": null,
   "metadata": {},
   "outputs": [],
   "source": [
    "df1 = df[df['Status']!='CANCELLED']"
   ]
  },
  {
   "cell_type": "code",
   "execution_count": null,
   "metadata": {},
   "outputs": [],
   "source": [
    "df['Product'].value_counts()"
   ]
  },
  {
   "cell_type": "code",
   "execution_count": null,
   "metadata": {},
   "outputs": [],
   "source": [
    "df2 = df1[df1['Product']!='CNC']"
   ]
  },
  {
   "cell_type": "code",
   "execution_count": null,
   "metadata": {},
   "outputs": [
    {
     "data": {
      "text/html": [
       "<div>\n",
       "<style scoped>\n",
       "    .dataframe tbody tr th:only-of-type {\n",
       "        vertical-align: middle;\n",
       "    }\n",
       "\n",
       "    .dataframe tbody tr th {\n",
       "        vertical-align: top;\n",
       "    }\n",
       "\n",
       "    .dataframe thead th {\n",
       "        text-align: right;\n",
       "    }\n",
       "</style>\n",
       "<table border=\"1\" class=\"dataframe\">\n",
       "  <thead>\n",
       "    <tr style=\"text-align: right;\">\n",
       "      <th></th>\n",
       "      <th>Time</th>\n",
       "      <th>Type</th>\n",
       "      <th>Instrument</th>\n",
       "      <th>Product</th>\n",
       "      <th>Qty.</th>\n",
       "      <th>Avg. price</th>\n",
       "      <th>Status</th>\n",
       "    </tr>\n",
       "  </thead>\n",
       "  <tbody>\n",
       "    <tr>\n",
       "      <th>0</th>\n",
       "      <td>2021-12-08 15:15:09</td>\n",
       "      <td>SELL</td>\n",
       "      <td>NTPC</td>\n",
       "      <td>MIS</td>\n",
       "      <td>2000/2000</td>\n",
       "      <td>127.30</td>\n",
       "      <td>COMPLETE</td>\n",
       "    </tr>\n",
       "    <tr>\n",
       "      <th>1</th>\n",
       "      <td>2021-12-08 14:40:54</td>\n",
       "      <td>BUY</td>\n",
       "      <td>NTPC</td>\n",
       "      <td>MIS</td>\n",
       "      <td>2000/2000</td>\n",
       "      <td>127.05</td>\n",
       "      <td>COMPLETE</td>\n",
       "    </tr>\n",
       "    <tr>\n",
       "      <th>3</th>\n",
       "      <td>2021-12-08 14:15:18</td>\n",
       "      <td>SELL</td>\n",
       "      <td>NTPC</td>\n",
       "      <td>MIS</td>\n",
       "      <td>2300/2300</td>\n",
       "      <td>126.90</td>\n",
       "      <td>COMPLETE</td>\n",
       "    </tr>\n",
       "    <tr>\n",
       "      <th>5</th>\n",
       "      <td>2021-12-08 13:29:29</td>\n",
       "      <td>BUY</td>\n",
       "      <td>NTPC</td>\n",
       "      <td>MIS</td>\n",
       "      <td>300/300</td>\n",
       "      <td>126.55</td>\n",
       "      <td>COMPLETE</td>\n",
       "    </tr>\n",
       "    <tr>\n",
       "      <th>6</th>\n",
       "      <td>2021-12-08 13:25:12</td>\n",
       "      <td>BUY</td>\n",
       "      <td>NTPC</td>\n",
       "      <td>MIS</td>\n",
       "      <td>2000/2000</td>\n",
       "      <td>126.55</td>\n",
       "      <td>COMPLETE</td>\n",
       "    </tr>\n",
       "    <tr>\n",
       "      <th>9</th>\n",
       "      <td>2021-12-08 13:05:13</td>\n",
       "      <td>SELL</td>\n",
       "      <td>NTPC</td>\n",
       "      <td>MIS</td>\n",
       "      <td>2000/2000</td>\n",
       "      <td>126.90</td>\n",
       "      <td>COMPLETE</td>\n",
       "    </tr>\n",
       "    <tr>\n",
       "      <th>10</th>\n",
       "      <td>2021-12-08 12:34:44</td>\n",
       "      <td>BUY</td>\n",
       "      <td>NTPC</td>\n",
       "      <td>MIS</td>\n",
       "      <td>1000/1000</td>\n",
       "      <td>126.05</td>\n",
       "      <td>COMPLETE</td>\n",
       "    </tr>\n",
       "    <tr>\n",
       "      <th>11</th>\n",
       "      <td>2021-12-08 12:34:15</td>\n",
       "      <td>BUY</td>\n",
       "      <td>NTPC</td>\n",
       "      <td>MIS</td>\n",
       "      <td>1000/1000</td>\n",
       "      <td>126.05</td>\n",
       "      <td>COMPLETE</td>\n",
       "    </tr>\n",
       "  </tbody>\n",
       "</table>\n",
       "</div>"
      ],
      "text/plain": [
       "                   Time  Type Instrument Product       Qty.  Avg. price  \\\n",
       "0   2021-12-08 15:15:09  SELL       NTPC     MIS  2000/2000      127.30   \n",
       "1   2021-12-08 14:40:54   BUY       NTPC     MIS  2000/2000      127.05   \n",
       "3   2021-12-08 14:15:18  SELL       NTPC     MIS  2300/2300      126.90   \n",
       "5   2021-12-08 13:29:29   BUY       NTPC     MIS    300/300      126.55   \n",
       "6   2021-12-08 13:25:12   BUY       NTPC     MIS  2000/2000      126.55   \n",
       "9   2021-12-08 13:05:13  SELL       NTPC     MIS  2000/2000      126.90   \n",
       "10  2021-12-08 12:34:44   BUY       NTPC     MIS  1000/1000      126.05   \n",
       "11  2021-12-08 12:34:15   BUY       NTPC     MIS  1000/1000      126.05   \n",
       "\n",
       "      Status  \n",
       "0   COMPLETE  \n",
       "1   COMPLETE  \n",
       "3   COMPLETE  \n",
       "5   COMPLETE  \n",
       "6   COMPLETE  \n",
       "9   COMPLETE  \n",
       "10  COMPLETE  \n",
       "11  COMPLETE  "
      ]
     },
     "execution_count": 11,
     "metadata": {},
     "output_type": "execute_result"
    }
   ],
   "source": [
    "df2"
   ]
  },
  {
   "cell_type": "code",
   "execution_count": null,
   "metadata": {},
   "outputs": [
    {
     "name": "stdout",
     "output_type": "stream",
     "text": [
      "<class 'pandas.core.frame.DataFrame'>\n",
      "RangeIndex: 12 entries, 0 to 11\n",
      "Data columns (total 7 columns):\n",
      " #   Column      Non-Null Count  Dtype  \n",
      "---  ------      --------------  -----  \n",
      " 0   Time        12 non-null     object \n",
      " 1   Type        12 non-null     object \n",
      " 2   Instrument  12 non-null     object \n",
      " 3   Product     12 non-null     object \n",
      " 4   Qty.        12 non-null     object \n",
      " 5   Avg. price  12 non-null     float64\n",
      " 6   Status      12 non-null     object \n",
      "dtypes: float64(1), object(6)\n",
      "memory usage: 800.0+ bytes\n"
     ]
    }
   ],
   "source": [
    "df.info()"
   ]
  },
  {
   "cell_type": "code",
   "execution_count": null,
   "metadata": {},
   "outputs": [
    {
     "data": {
      "text/html": [
       "<div>\n",
       "<style scoped>\n",
       "    .dataframe tbody tr th:only-of-type {\n",
       "        vertical-align: middle;\n",
       "    }\n",
       "\n",
       "    .dataframe tbody tr th {\n",
       "        vertical-align: top;\n",
       "    }\n",
       "\n",
       "    .dataframe thead th {\n",
       "        text-align: right;\n",
       "    }\n",
       "</style>\n",
       "<table border=\"1\" class=\"dataframe\">\n",
       "  <thead>\n",
       "    <tr style=\"text-align: right;\">\n",
       "      <th></th>\n",
       "      <th>Time</th>\n",
       "      <th>Type</th>\n",
       "      <th>Instrument</th>\n",
       "      <th>Product</th>\n",
       "      <th>Qty.</th>\n",
       "      <th>Avg. price</th>\n",
       "      <th>Status</th>\n",
       "    </tr>\n",
       "  </thead>\n",
       "  <tbody>\n",
       "    <tr>\n",
       "      <th>0</th>\n",
       "      <td>2021-12-08 15:15:09</td>\n",
       "      <td>SELL</td>\n",
       "      <td>NTPC</td>\n",
       "      <td>MIS</td>\n",
       "      <td>2000/2000</td>\n",
       "      <td>127.30</td>\n",
       "      <td>COMPLETE</td>\n",
       "    </tr>\n",
       "    <tr>\n",
       "      <th>1</th>\n",
       "      <td>2021-12-08 14:40:54</td>\n",
       "      <td>BUY</td>\n",
       "      <td>NTPC</td>\n",
       "      <td>MIS</td>\n",
       "      <td>2000/2000</td>\n",
       "      <td>127.05</td>\n",
       "      <td>COMPLETE</td>\n",
       "    </tr>\n",
       "    <tr>\n",
       "      <th>2</th>\n",
       "      <td>2021-12-08 14:38:32</td>\n",
       "      <td>BUY</td>\n",
       "      <td>NTPC</td>\n",
       "      <td>MIS</td>\n",
       "      <td>0/2000</td>\n",
       "      <td>126.95</td>\n",
       "      <td>CANCELLED</td>\n",
       "    </tr>\n",
       "    <tr>\n",
       "      <th>3</th>\n",
       "      <td>2021-12-08 14:15:18</td>\n",
       "      <td>SELL</td>\n",
       "      <td>NTPC</td>\n",
       "      <td>MIS</td>\n",
       "      <td>2300/2300</td>\n",
       "      <td>126.90</td>\n",
       "      <td>COMPLETE</td>\n",
       "    </tr>\n",
       "    <tr>\n",
       "      <th>4</th>\n",
       "      <td>2021-12-08 14:00:41</td>\n",
       "      <td>SELL</td>\n",
       "      <td>NTPC</td>\n",
       "      <td>MIS</td>\n",
       "      <td>0/1300</td>\n",
       "      <td>127.40</td>\n",
       "      <td>CANCELLED</td>\n",
       "    </tr>\n",
       "  </tbody>\n",
       "</table>\n",
       "</div>"
      ],
      "text/plain": [
       "                  Time  Type Instrument Product       Qty.  Avg. price  \\\n",
       "0  2021-12-08 15:15:09  SELL       NTPC     MIS  2000/2000      127.30   \n",
       "1  2021-12-08 14:40:54   BUY       NTPC     MIS  2000/2000      127.05   \n",
       "2  2021-12-08 14:38:32   BUY       NTPC     MIS     0/2000      126.95   \n",
       "3  2021-12-08 14:15:18  SELL       NTPC     MIS  2300/2300      126.90   \n",
       "4  2021-12-08 14:00:41  SELL       NTPC     MIS     0/1300      127.40   \n",
       "\n",
       "      Status  \n",
       "0   COMPLETE  \n",
       "1   COMPLETE  \n",
       "2  CANCELLED  \n",
       "3   COMPLETE  \n",
       "4  CANCELLED  "
      ]
     },
     "execution_count": 13,
     "metadata": {},
     "output_type": "execute_result"
    }
   ],
   "source": [
    "df.head()"
   ]
  },
  {
   "cell_type": "code",
   "execution_count": null,
   "metadata": {},
   "outputs": [
    {
     "data": {
      "text/plain": [
       "str"
      ]
     },
     "execution_count": 14,
     "metadata": {},
     "output_type": "execute_result"
    }
   ],
   "source": [
    "x = \"100/100\"\n",
    "type(x)"
   ]
  },
  {
   "cell_type": "code",
   "execution_count": null,
   "metadata": {},
   "outputs": [
    {
     "data": {
      "text/plain": [
       "100"
      ]
     },
     "execution_count": 17,
     "metadata": {},
     "output_type": "execute_result"
    }
   ],
   "source": [
    "x = x.split('/')[0]\n",
    "int(x)"
   ]
  },
  {
   "cell_type": "code",
   "execution_count": null,
   "metadata": {},
   "outputs": [
    {
     "name": "stdout",
     "output_type": "stream",
     "text": [
      "<class 'pandas.core.frame.DataFrame'>\n",
      "Int64Index: 8 entries, 0 to 11\n",
      "Data columns (total 7 columns):\n",
      " #   Column      Non-Null Count  Dtype  \n",
      "---  ------      --------------  -----  \n",
      " 0   Time        8 non-null      object \n",
      " 1   Type        8 non-null      object \n",
      " 2   Instrument  8 non-null      object \n",
      " 3   Product     8 non-null      object \n",
      " 4   Qty.        8 non-null      int32  \n",
      " 5   Avg. price  8 non-null      float64\n",
      " 6   Status      8 non-null      object \n",
      "dtypes: float64(1), int32(1), object(5)\n",
      "memory usage: 480.0+ bytes\n"
     ]
    },
    {
     "name": "stderr",
     "output_type": "stream",
     "text": [
      "<ipython-input-20-cb4730453ce5>:1: SettingWithCopyWarning: \n",
      "A value is trying to be set on a copy of a slice from a DataFrame.\n",
      "Try using .loc[row_indexer,col_indexer] = value instead\n",
      "\n",
      "See the caveats in the documentation: https://pandas.pydata.org/pandas-docs/stable/user_guide/indexing.html#returning-a-view-versus-a-copy\n",
      "  df2['Qty.']=df2['Qty.'].apply(lambda x: x.split('/')[0])\n",
      "<ipython-input-20-cb4730453ce5>:2: SettingWithCopyWarning: \n",
      "A value is trying to be set on a copy of a slice from a DataFrame.\n",
      "Try using .loc[row_indexer,col_indexer] = value instead\n",
      "\n",
      "See the caveats in the documentation: https://pandas.pydata.org/pandas-docs/stable/user_guide/indexing.html#returning-a-view-versus-a-copy\n",
      "  df2['Qty.']=df2['Qty.'].astype(int)\n"
     ]
    }
   ],
   "source": [
    "df2['Qty.']=df2['Qty.'].apply(lambda x: x.split('/')[0])\n",
    "df2['Qty.']=df2['Qty.'].astype(int)\n",
    "df2.info()"
   ]
  },
  {
   "cell_type": "code",
   "execution_count": null,
   "metadata": {},
   "outputs": [],
   "source": []
  },
  {
   "cell_type": "code",
   "execution_count": null,
   "metadata": {},
   "outputs": [],
   "source": []
  }
 ],
 "metadata": {
  "kernelspec": {
   "display_name": "Python 3",
   "language": "python",
   "name": "python3"
  },
  "language_info": {
   "codemirror_mode": {
    "name": "ipython",
    "version": 3
   },
   "file_extension": ".py",
   "mimetype": "text/x-python",
   "name": "python",
   "nbconvert_exporter": "python",
   "pygments_lexer": "ipython3",
   "version": "3.9.5"
  }
 },
 "nbformat": 4,
 "nbformat_minor": 4
}
